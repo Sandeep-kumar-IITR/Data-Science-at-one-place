{
 "cells": [
  {
   "cell_type": "markdown",
   "id": "38e44f71",
   "metadata": {},
   "source": [
    "# Linear model"
   ]
  },
  {
   "cell_type": "markdown",
   "id": "84e75aab",
   "metadata": {},
   "source": [
    "It is the linear eqution of feature which predict the target value using regression ."
   ]
  },
  {
   "cell_type": "markdown",
   "id": "12f9ccda",
   "metadata": {},
   "source": [
    "y(x)  = w0 + w1x1  + w2x2 + w3x3 ....."
   ]
  },
  {
   "cell_type": "markdown",
   "id": "a202d56e",
   "metadata": {},
   "source": [
    "w  =  (w1 , w2 , w3...wn) are cofficient and w0 are intersept"
   ]
  },
  {
   "cell_type": "markdown",
   "id": "096be588",
   "metadata": {},
   "source": [
    "# ordinary least square"
   ]
  },
  {
   "cell_type": "markdown",
   "id": "6523b409",
   "metadata": {},
   "source": [
    "lenear regression fit a linear model with cofficient w to minimize the the redusal sum of square between the target value and predicted value"
   ]
  },
  {
   "cell_type": "markdown",
   "id": "48780936",
   "metadata": {},
   "source": [
    "cost = min||y_pre - y||^2"
   ]
  },
  {
   "cell_type": "markdown",
   "id": "3fed993a",
   "metadata": {},
   "source": [
    "Now code for linear regression "
   ]
  },
  {
   "cell_type": "code",
   "execution_count": 1,
   "id": "9836ca6c",
   "metadata": {},
   "outputs": [],
   "source": [
    "from sklearn import linear_model"
   ]
  },
  {
   "cell_type": "code",
   "execution_count": 2,
   "id": "29fad5d8",
   "metadata": {},
   "outputs": [],
   "source": [
    "li_reg  =linear_model.LinearRegression()"
   ]
  },
  {
   "cell_type": "code",
   "execution_count": 3,
   "id": "769568e8",
   "metadata": {},
   "outputs": [],
   "source": [
    "x_train = [[0, 0], [1, 1], [2, 2]]  \n",
    "y_train = [0, 1, 2]"
   ]
  },
  {
   "cell_type": "code",
   "execution_count": 4,
   "id": "1c4509f5",
   "metadata": {},
   "outputs": [
    {
     "data": {
      "text/plain": [
       "LinearRegression()"
      ]
     },
     "execution_count": 4,
     "metadata": {},
     "output_type": "execute_result"
    }
   ],
   "source": [
    "li_reg.fit(x_train , y_train)"
   ]
  },
  {
   "cell_type": "code",
   "execution_count": 5,
   "id": "554e81fe",
   "metadata": {},
   "outputs": [
    {
     "data": {
      "text/plain": [
       "array([0.5, 0.5])"
      ]
     },
     "execution_count": 5,
     "metadata": {},
     "output_type": "execute_result"
    }
   ],
   "source": [
    "li_reg.coef_"
   ]
  },
  {
   "cell_type": "code",
   "execution_count": 6,
   "id": "ab777351",
   "metadata": {},
   "outputs": [
    {
     "data": {
      "text/plain": [
       "1.1102230246251565e-16"
      ]
     },
     "execution_count": 6,
     "metadata": {},
     "output_type": "execute_result"
    }
   ],
   "source": [
    "li_reg.intercept_"
   ]
  },
  {
   "cell_type": "code",
   "execution_count": 7,
   "id": "7d0ad1ca",
   "metadata": {},
   "outputs": [],
   "source": [
    "x_test = [[1, 0], [2, 1], [3, 2]]"
   ]
  },
  {
   "cell_type": "code",
   "execution_count": 8,
   "id": "7a6976ae",
   "metadata": {},
   "outputs": [
    {
     "data": {
      "text/plain": [
       "array([0.5, 1.5, 2.5])"
      ]
     },
     "execution_count": 8,
     "metadata": {},
     "output_type": "execute_result"
    }
   ],
   "source": [
    "li_reg.predict(x_test)"
   ]
  },
  {
   "cell_type": "markdown",
   "id": "1d78f796",
   "metadata": {},
   "source": [
    "Note if two feature are corelated then the matrix become singular and there may be a random error for test set in ordinary least square"
   ]
  },
  {
   "cell_type": "markdown",
   "id": "7442829f",
   "metadata": {},
   "source": [
    "ordinary least square complexity"
   ]
  },
  {
   "cell_type": "markdown",
   "id": "9ead5a3c",
   "metadata": {},
   "source": [
    "The least squares solution is computed using the singular value decomposition of X. If X is a matrix of shape (n_samples, n_features) this method has a cost of O(n_samples*n_feature^2)"
   ]
  },
  {
   "cell_type": "markdown",
   "id": "44a4cc27",
   "metadata": {},
   "source": [
    "# Ridge regression and classification"
   ]
  },
  {
   "cell_type": "markdown",
   "id": "0c613cdf",
   "metadata": {},
   "source": [
    "Ridge regression addresses some of the problems of Ordinary Least Squares by imposing a penalty on the size of the coefficients. The ridge coefficients minimize a penalized residual sum of squares:"
   ]
  },
  {
   "cell_type": "markdown",
   "id": "d0e543cf",
   "metadata": {},
   "source": [
    "cost = min||y_pre - y||^2 + a||w||^2"
   ]
  },
  {
   "cell_type": "markdown",
   "id": "d139b869",
   "metadata": {},
   "source": [
    "Now code for ridge"
   ]
  },
  {
   "cell_type": "code",
   "execution_count": 9,
   "id": "0883dc57",
   "metadata": {},
   "outputs": [
    {
     "data": {
      "text/plain": [
       "Ridge()"
      ]
     },
     "execution_count": 9,
     "metadata": {},
     "output_type": "execute_result"
    }
   ],
   "source": [
    "from sklearn import linear_model\n",
    "ridge_reg  = linear_model.Ridge()\n",
    "ridge_reg.fit(x_train , y_train)"
   ]
  },
  {
   "cell_type": "code",
   "execution_count": 10,
   "id": "a0e082fa",
   "metadata": {},
   "outputs": [
    {
     "data": {
      "text/plain": [
       "array([0.4, 0.4])"
      ]
     },
     "execution_count": 10,
     "metadata": {},
     "output_type": "execute_result"
    }
   ],
   "source": [
    "ridge_reg.coef_"
   ]
  },
  {
   "cell_type": "code",
   "execution_count": 11,
   "id": "c495eab9",
   "metadata": {},
   "outputs": [
    {
     "data": {
      "text/plain": [
       "0.19999999999999996"
      ]
     },
     "execution_count": 11,
     "metadata": {},
     "output_type": "execute_result"
    }
   ],
   "source": [
    "ridge_reg.intercept_"
   ]
  },
  {
   "cell_type": "code",
   "execution_count": 12,
   "id": "cc129b8b",
   "metadata": {},
   "outputs": [
    {
     "data": {
      "text/plain": [
       "array([0.6, 1.4, 2.2])"
      ]
     },
     "execution_count": 12,
     "metadata": {},
     "output_type": "execute_result"
    }
   ],
   "source": [
    "ridge_reg.predict(x_test)"
   ]
  },
  {
   "cell_type": "markdown",
   "id": "477de17f",
   "metadata": {},
   "source": [
    "The Ridge regressor has a classifier variant: RidgeClassifier\n",
    "    "
   ]
  },
  {
   "cell_type": "markdown",
   "id": "e14de7d4",
   "metadata": {},
   "source": [
    "The RidgeClassifier can be significantly faster than e.g. LogisticRegression with a high number of classes because it can compute the projection matrix (xTx)-1xT only once."
   ]
  },
  {
   "cell_type": "markdown",
   "id": "4c81f31d",
   "metadata": {},
   "source": [
    "# RidgeCV"
   ]
  },
  {
   "cell_type": "markdown",
   "id": "ce12badf",
   "metadata": {},
   "source": [
    "RidgeCV implements ridge regression with built-in cross-validation of the alpha parameter. The object works in the same way as GridSearchCV except that it defaults to Leave-One-Out Cross-Validation:"
   ]
  },
  {
   "cell_type": "code",
   "execution_count": 13,
   "id": "f76debd0",
   "metadata": {},
   "outputs": [
    {
     "data": {
      "text/plain": [
       "array([0.51219512, 1.48780488, 2.46341463])"
      ]
     },
     "execution_count": 13,
     "metadata": {},
     "output_type": "execute_result"
    }
   ],
   "source": [
    "import numpy as np\n",
    "from sklearn import linear_model\n",
    "reg_cv = linear_model.RidgeCV(alphas=0.1)\n",
    "reg_cv.fit(x_train , y_train)\n",
    "reg_cv.predict(x_test)\n",
    "# RidgeCV(alphas=array([1.e-06, 1.e-05, 1.e-04, 1.e-03, 1.e-02, 1.e-01, 1.e+00, 1.e+01,\n",
    "#       1.e+02, 1.e+03, 1.e+04, 1.e+05, 1.e+06]))\n",
    "# >>> reg.alpha_\n",
    "# 0.01"
   ]
  },
  {
   "cell_type": "raw",
   "id": "68e3f953",
   "metadata": {},
   "source": [
    "<----Dot in alpha ---->"
   ]
  },
  {
   "cell_type": "markdown",
   "id": "18ae585b",
   "metadata": {},
   "source": [
    "# Lasso"
   ]
  },
  {
   "cell_type": "markdown",
   "id": "168e3e86",
   "metadata": {},
   "source": [
    "The Lasso is a linear model that estimates sparse coefficients.\n"
   ]
  },
  {
   "cell_type": "markdown",
   "id": "df7b2b50",
   "metadata": {},
   "source": [
    "Mathematically, it consists of a linear model with an added regularization term. The objective function to minimize is:"
   ]
  },
  {
   "attachments": {
    "Screenshot%202022-06-17%20161406.png": {
     "image/png": "[encoded data removed]"
    }
   },
   "cell_type": "markdown",
   "id": "7660709b",
   "metadata": {},
   "source": [
    "![Screenshot%202022-06-17%20161406.png](attachment:Screenshot%202022-06-17%20161406.png)"
   ]
  },
  {
   "cell_type": "markdown",
   "id": "c7b7f523",
   "metadata": {},
   "source": [
    "Lasso uses coordinate descent as the algorithm to fit the coefficients."
   ]
  },
  {
   "cell_type": "code",
   "execution_count": 14,
   "id": "af596ffb",
   "metadata": {},
   "outputs": [
    {
     "data": {
      "text/plain": [
       "Lasso(alpha=0.2)"
      ]
     },
     "execution_count": 14,
     "metadata": {},
     "output_type": "execute_result"
    }
   ],
   "source": [
    "from sklearn import linear_model \n",
    "laso_re  = linear_model.Lasso(alpha  = 0.2)\n",
    "laso_re.fit(x_train  ,y_train)"
   ]
  },
  {
   "cell_type": "code",
   "execution_count": 15,
   "id": "8f61e673",
   "metadata": {},
   "outputs": [
    {
     "data": {
      "text/plain": [
       "array([1. , 1.7, 2.4])"
      ]
     },
     "execution_count": 15,
     "metadata": {},
     "output_type": "execute_result"
    }
   ],
   "source": [
    "laso_re.predict(x_test)"
   ]
  },
  {
   "cell_type": "code",
   "execution_count": 16,
   "id": "93d22a0b",
   "metadata": {},
   "outputs": [
    {
     "data": {
      "text/plain": [
       "array([0.7, 0. ])"
      ]
     },
     "execution_count": 16,
     "metadata": {},
     "output_type": "execute_result"
    }
   ],
   "source": [
    "laso_re.coef_"
   ]
  },
  {
   "cell_type": "markdown",
   "id": "038d9fc0",
   "metadata": {},
   "source": [
    "# Polynomial regression"
   ]
  },
  {
   "cell_type": "markdown",
   "id": "dd5c86a3",
   "metadata": {},
   "source": [
    "One common pattern within machine learning is to use linear models trained on nonlinear functions of the data. This approach maintains the generally fast performance of linear methods, while allowing them to fit a much wider range of data."
   ]
  },
  {
   "attachments": {
    "Screenshot%202022-06-17%20162913.png": {
     "image/png": "[encoded data removed]"
    }
   },
   "cell_type": "markdown",
   "id": "c97d0de2",
   "metadata": {},
   "source": [
    "![Screenshot%202022-06-17%20162913.png](attachment:Screenshot%202022-06-17%20162913.png)"
   ]
  },
  {
   "cell_type": "code",
   "execution_count": 17,
   "id": "9652a79a",
   "metadata": {},
   "outputs": [],
   "source": [
    "from sklearn import preprocessing"
   ]
  },
  {
   "cell_type": "code",
   "execution_count": 18,
   "id": "e7587521",
   "metadata": {},
   "outputs": [],
   "source": [
    "poly  =preprocessing.PolynomialFeatures(degree = 2)"
   ]
  },
  {
   "cell_type": "code",
   "execution_count": 19,
   "id": "f6be4665",
   "metadata": {},
   "outputs": [
    {
     "data": {
      "text/plain": [
       "array([[1., 0., 0., 0., 0., 0.],\n",
       "       [1., 1., 1., 1., 1., 1.],\n",
       "       [1., 2., 2., 4., 4., 4.]])"
      ]
     },
     "execution_count": 19,
     "metadata": {},
     "output_type": "execute_result"
    }
   ],
   "source": [
    "poly.fit_transform(x_train)"
   ]
  },
  {
   "cell_type": "markdown",
   "id": "03b012ff",
   "metadata": {},
   "source": [
    "NOw use this as new traing data with 6 feature"
   ]
  },
  {
   "cell_type": "code",
   "execution_count": 20,
   "id": "d14ace97",
   "metadata": {},
   "outputs": [],
   "source": [
    "from sklearn.preprocessing import PolynomialFeatures\n",
    "from sklearn.linear_model import LinearRegression\n",
    "from sklearn.pipeline import Pipeline"
   ]
  },
  {
   "cell_type": "code",
   "execution_count": 21,
   "id": "4eeeb6da",
   "metadata": {},
   "outputs": [],
   "source": [
    "model  = Pipeline([('poly' , PolynomialFeatures(degree  =2)) ,\n",
    "                    ('linr' , LinearRegression())])"
   ]
  },
  {
   "cell_type": "code",
   "execution_count": 22,
   "id": "04f67857",
   "metadata": {},
   "outputs": [],
   "source": [
    "model  =  model.fit(x_train,y_train)"
   ]
  },
  {
   "cell_type": "code",
   "execution_count": 23,
   "id": "c81c6743",
   "metadata": {},
   "outputs": [
    {
     "data": {
      "text/plain": [
       "array([-8.88178420e-16,  5.00000000e-01,  5.00000000e-01, -1.11022302e-16,\n",
       "       -1.11022302e-16, -1.11022302e-16])"
      ]
     },
     "execution_count": 23,
     "metadata": {},
     "output_type": "execute_result"
    }
   ],
   "source": [
    "model.named_steps['linr'].coef_"
   ]
  },
  {
   "cell_type": "code",
   "execution_count": 24,
   "id": "73eae4dc",
   "metadata": {},
   "outputs": [
    {
     "data": {
      "text/plain": [
       "array([0.5, 1.5, 2.5])"
      ]
     },
     "execution_count": 24,
     "metadata": {},
     "output_type": "execute_result"
    }
   ],
   "source": [
    "x_tet  = poly.fit_transform(x_test)\n",
    "model.named_steps['linr'].predict(x_tet)"
   ]
  },
  {
   "cell_type": "code",
   "execution_count": null,
   "id": "b02cae41",
   "metadata": {},
   "outputs": [],
   "source": []
  }
 ],
 "metadata": {
  "kernelspec": {
   "display_name": "Python 3 (ipykernel)",
   "language": "python",
   "name": "python3"
  },
  "language_info": {
   "codemirror_mode": {
    "name": "ipython",
    "version": 3
   },
   "file_extension": ".py",
   "mimetype": "text/x-python",
   "name": "python",
   "nbconvert_exporter": "python",
   "pygments_lexer": "ipython3",
   "version": "3.10.0"
  }
 },
 "nbformat": 4,
 "nbformat_minor": 5
}
